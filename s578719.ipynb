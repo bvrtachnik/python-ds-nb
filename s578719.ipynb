{
 "cells": [
  {
   "cell_type": "markdown",
   "id": "4265127f",
   "metadata": {},
   "source": [
    "# Brett Vrtachnik"
   ]
  },
  {
   "cell_type": "code",
   "execution_count": 4,
   "id": "b24dc0fd",
   "metadata": {},
   "outputs": [
    {
     "name": "stdout",
     "output_type": "stream",
     "text": [
      "*      *\n",
      "**    **\n",
      "***  ***\n",
      "********\n"
     ]
    }
   ],
   "source": [
    "for i in range(1, 5):\n",
    "    left = '*' * i\n",
    "    spaces = ' ' * (8 - 2 * i)\n",
    "    right = '*' * i\n",
    "    print(left + spaces + right)"
   ]
  }
 ],
 "metadata": {
  "kernelspec": {
   "display_name": ".venv",
   "language": "python",
   "name": "python3"
  },
  "language_info": {
   "codemirror_mode": {
    "name": "ipython",
    "version": 3
   },
   "file_extension": ".py",
   "mimetype": "text/x-python",
   "name": "python",
   "nbconvert_exporter": "python",
   "pygments_lexer": "ipython3",
   "version": "3.13.3"
  }
 },
 "nbformat": 4,
 "nbformat_minor": 5
}
